{
 "cells": [
  {
   "cell_type": "code",
   "execution_count": 2,
   "metadata": {},
   "outputs": [
    {
     "data": {
      "text/plain": [
       "'\\nif not os.path.exists(imbd_folder):\\n    with tarfile.open(save_filename) as tar:\\n        tar.extractall()\\n'"
      ]
     },
     "execution_count": 2,
     "metadata": {},
     "output_type": "execute_result"
    }
   ],
   "source": [
    "'''\n",
    "download sentiment dataset on imbd\n",
    "'''\n",
    "\n",
    "'''\n",
    "import urllib.request as req\n",
    "import tarfile\n",
    "\n",
    "\n",
    "imdb_url=\"https://ai.stanford.edu/~amaas/data/sentiment/aclImdb_v1.tar.gz\"\n",
    "\n",
    "save_filename=\"aclImbd_v1.tar.gz\"\n",
    "if not os.path.exists(save_filename):\n",
    "    req.urlretrieve(imdb_url,save_filename)\n",
    "'''\n",
    "import os\n",
    "    \n",
    "imdb_folder=\"aclImdb\"\n",
    "\n",
    "'''\n",
    "if not os.path.exists(imbd_folder):\n",
    "    with tarfile.open(save_filename) as tar:\n",
    "        tar.extractall()\n",
    "'''\n",
    "\n",
    "        "
   ]
  },
  {
   "cell_type": "code",
   "execution_count": 3,
   "metadata": {
    "collapsed": true
   },
   "outputs": [],
   "source": [
    "'''\n",
    "process and input data\n",
    "'''\n",
    "\n",
    "import numpy as np\n",
    "import re\n",
    "#re库，正则表达式库\n",
    "\n",
    "def get_reviews(data_folder=\"/train\"):\n",
    "    reviews=[]\n",
    "    labels=[]\n",
    "    for index,sentiment in enumerate([\"/neg/\",\"/pos/\"]):\n",
    "        path=imdb_folder+data_folder+sentiment\n",
    "        for filename in sorted(os.listdir(path)):\n",
    "            with open(path+filename,'r',encoding='gb18030',errors='ignore') as f:\n",
    "                review=f.read()\n",
    "                review=review.lower()  #小写化处理\n",
    "                review=review.replace(\"<br />\",\" \")#网页格式处理\n",
    "                review=re.sub(r\"[^a-z]\",\" \",review)\n",
    "                review=re.sub(r\" +\",\" \",review)\n",
    "                review=review.split(\" \")\n",
    "                reviews.append(review)\n",
    "                \n",
    "                label=[0,0]\n",
    "                label[index]=1\n",
    "                labels.append(label)\n",
    "                \n",
    "    return reviews,np.array(labels)\n",
    "    "
   ]
  },
  {
   "cell_type": "code",
   "execution_count": 4,
   "metadata": {},
   "outputs": [
    {
     "name": "stdout",
     "output_type": "stream",
     "text": [
      "25000\n",
      "['story', 'of', 'a', 'man', 'who', 'has', 'unnatural', 'feelings', 'for', 'a', 'pig', 'starts', 'out', 'with', 'a', 'opening', 'scene', 'that', 'is', 'a', 'terrific', 'example', 'of', 'absurd', 'comedy', 'a', 'formal', 'orchestra', 'audience', 'is', 'turned', 'into', 'an', 'insane', 'violent', 'mob', 'by', 'the', 'crazy', 'chantings', 'of', 'it', 's', 'singers', 'unfortunately', 'it', 'stays', 'absurd', 'the', 'whole', 'time', 'with', 'no', 'general', 'narrative', 'eventually', 'making', 'it', 'just', 'too', 'off', 'putting', 'even', 'those', 'from', 'the', 'era', 'should', 'be', 'turned', 'off', 'the', 'cryptic', 'dialogue', 'would', 'make', 'shakespeare', 'seem', 'easy', 'to', 'a', 'third', 'grader', 'on', 'a', 'technical', 'level', 'it', 's', 'better', 'than', 'you', 'might', 'think', 'with', 'some', 'good', 'cinematography', 'by', 'future', 'great', 'vilmos', 'zsigmond', 'future', 'stars', 'sally', 'kirkland', 'and', 'frederic', 'forrest', 'can', 'be', 'seen', 'briefly', '']\n",
      "[1 0]\n"
     ]
    }
   ],
   "source": [
    "train_reviews,train_labels=get_reviews()\n",
    "print(len(train_reviews))\n",
    "print(train_reviews[0])\n",
    "print(train_labels[0])"
   ]
  },
  {
   "cell_type": "code",
   "execution_count": 5,
   "metadata": {
    "collapsed": true
   },
   "outputs": [],
   "source": [
    "import zipfile\n",
    "\n",
    "glove_url=\"http://nlp.stanford.edu/data/glove.6B.zip\"\n",
    "\n",
    "save_filename=\"glove.6B.zip\"\n",
    "'''\n",
    "if not os.path.exists(save_filename):\n",
    "    req.urlretrieve(glove_url,save_filename)\n",
    "'''\n",
    "\n",
    "    \n",
    "EMBEDDING_SIZE=50\n",
    "glove_filename=\"glove.6B.{}d.txt\".format(EMBEDDING_SIZE)\n",
    "if not os.path.exists(glove_filename) and EMBEDDING_SIZE in [50,100,200,300]:\n",
    "    with zipfile.ZipFile(save_filename, 'r') as z:\n",
    "        z.extractall()"
   ]
  },
  {
   "cell_type": "code",
   "execution_count": 6,
   "metadata": {
    "collapsed": true
   },
   "outputs": [],
   "source": [
    "from collections import defaultdict\n",
    "\n",
    "def load_embeddings():\n",
    "    with open(glove_filename,'r',encoding='gb18030',errors='ignore') as glove_vectors:\n",
    "        word_to_int=defaultdict(int)\n",
    "        int_to_vec=defaultdict(lambda:np.zeros([EMBEDDING_SIZE]))\n",
    "        \n",
    "        index=1\n",
    "        for line in glove_vectors:\n",
    "            fields=line.split()\n",
    "            word=str(fields[0])\n",
    "            vec=np.asarray(fields[1:],np.float32)\n",
    "            word_to_int[word]=index\n",
    "            int_to_vec[index]=vec\n",
    "            index+=1\n",
    "    return word_to_int,int_to_vec\n",
    "\n",
    "word_to_int,int_to_vec=load_embeddings()"
   ]
  },
  {
   "cell_type": "code",
   "execution_count": 7,
   "metadata": {},
   "outputs": [
    {
     "name": "stdout",
     "output_type": "stream",
     "text": [
      "[524, 4, 8, 301, 39, 32, 28639, 5045, 11, 8, 9611, 2384, 67, 18, 8, 876, 1501, 13, 15, 8, 11026, 881, 4, 12414, 2842, 8, 2725, 4079, 2053, 15, 853, 76, 30, 14917, 2529, 7632, 22, 1, 5579, 0, 4, 21, 1535, 7793, 4717, 21, 7888, 12414, 1, 1116, 80, 18, 85, 217, 8040, 1182, 434, 21, 121, 318, 139, 2221, 152, 156, 26, 1, 1593, 190, 31, 853, 139, 1, 29298, 2470, 55, 160, 7478, 1915, 1674, 5, 8, 246, 20156, 14, 8, 2027, 506, 21, 1535, 440, 74, 82, 415, 270, 18, 78, 220, 22182, 22, 582, 354, 107311, 127384, 582, 1570, 10946, 23761, 6, 15679, 16084, 87, 31, 542, 3443, 0]\n"
     ]
    }
   ],
   "source": [
    "def review_words_to_ints(train_reviews):\n",
    "    train_data=[]\n",
    "    for review in train_reviews:\n",
    "        int_review=[word_to_int[word] for word in review]\n",
    "        train_data.append(int_review)\n",
    "    return train_data\n",
    "\n",
    "train_reviews=review_words_to_ints(train_reviews)\n",
    "print(train_reviews[0])"
   ]
  },
  {
   "cell_type": "code",
   "execution_count": 8,
   "metadata": {},
   "outputs": [
    {
     "data": {
      "text/plain": [
       "<matplotlib.axes._subplots.AxesSubplot at 0x2152575d828>"
      ]
     },
     "execution_count": 8,
     "metadata": {},
     "output_type": "execute_result"
    }
   ],
   "source": [
    "import seaborn as sns\n",
    "\n",
    "train_reviews_lens=[len(review) for review in train_reviews]\n",
    "sns.distplot(train_reviews_lens)"
   ]
  },
  {
   "cell_type": "code",
   "execution_count": 9,
   "metadata": {},
   "outputs": [
    {
     "name": "stdout",
     "output_type": "stream",
     "text": [
      "[524, 4, 8, 301, 39, 32, 28639, 5045, 11, 8, 9611, 2384, 67, 18, 8, 876, 1501, 13, 15, 8, 11026, 881, 4, 12414, 2842, 8, 2725, 4079, 2053, 15, 853, 76, 30, 14917, 2529, 7632, 22, 1, 5579, 0, 4, 21, 1535, 7793, 4717, 21, 7888, 12414, 1, 1116, 80, 18, 85, 217, 8040, 1182, 434, 21, 121, 318, 139, 2221, 152, 156, 26, 1, 1593, 190, 31, 853, 139, 1, 29298, 2470, 55, 160, 7478, 1915, 1674, 5, 8, 246, 20156, 14, 8, 2027, 506, 21, 1535, 440, 74, 82, 415, 270, 18, 78, 220, 22182, 22, 582, 354, 107311, 127384, 582, 1570, 10946, 23761, 6, 15679, 16084, 87, 31, 542, 3443, 0, 0, 0, 0, 0, 0, 0, 0, 0, 0, 0, 0, 0, 0, 0, 0, 0, 0, 0, 0, 0, 0, 0, 0, 0, 0, 0, 0, 0, 0, 0, 0, 0, 0, 0, 0, 0, 0, 0, 0, 0, 0, 0, 0, 0, 0, 0, 0, 0, 0, 0, 0, 0, 0, 0, 0, 0, 0, 0, 0, 0, 0, 0, 0, 0, 0, 0, 0, 0, 0, 0, 0, 0, 0, 0, 0, 0, 0, 0, 0, 0, 0, 0, 0, 0, 0, 0, 0, 0, 0, 0, 0, 0, 0, 0, 0, 0, 0, 0, 0, 0, 0, 0, 0, 0, 0, 0, 0, 0, 0, 0, 0, 0, 0, 0, 0, 0, 0, 0, 0, 0, 0, 0, 0, 0, 0, 0, 0, 0, 0, 0, 0, 0, 0, 0, 0, 0, 0, 0, 0, 0, 0, 0, 0, 0, 0, 0, 0, 0, 0, 0, 0, 0, 0, 0, 0, 0, 0, 0, 0, 0, 0, 0, 0, 0, 0, 0, 0, 0, 0, 0, 0, 0, 0, 0, 0, 0, 0, 0, 0, 0, 0, 0, 0, 0, 0, 0, 0, 0, 0, 0, 0, 0, 0, 0, 0, 0, 0, 0, 0, 0, 0, 0, 0, 0, 0, 0, 0, 0, 0, 0, 0, 0, 0, 0, 0, 0, 0, 0, 0, 0, 0, 0, 0, 0, 0, 0, 0, 0, 0, 0, 0, 0, 0, 0, 0, 0, 0, 0, 0, 0, 0, 0, 0, 0, 0, 0, 0, 0, 0, 0, 0, 0, 0, 0, 0, 0, 0, 0, 0, 0, 0, 0, 0, 0, 0, 0, 0, 0, 0, 0, 0, 0, 0, 0, 0, 0, 0, 0, 0, 0, 0, 0, 0, 0, 0, 0, 0, 0, 0, 0, 0, 0, 0, 0, 0, 0, 0, 0, 0, 0, 0, 0, 0, 0, 0, 0, 0, 0, 0, 0, 0, 0, 0, 0, 0, 0, 0, 0, 0, 0, 0, 0, 0, 0, 0, 0, 0, 0, 0, 0, 0, 0, 0, 0, 0, 0, 0, 0, 0, 0, 0, 0, 0, 0, 0, 0, 0, 0, 0, 0, 0, 0, 0, 0, 0, 0, 0, 0, 0, 0, 0, 0, 0, 0, 0, 0, 0, 0, 0, 0, 0, 0, 0, 0, 0, 0, 0, 0, 0, 0, 0, 0, 0, 0, 0]\n"
     ]
    }
   ],
   "source": [
    "MAX_REVIEW_LEN=500\n",
    "\n",
    "def zero_pad_reviews(train_reviews):\n",
    "    train_data_padded=[]\n",
    "    for review in train_reviews:\n",
    "        padded=[0]*MAX_REVIEW_LEN\n",
    "        stop_index=min(len(review),MAX_REVIEW_LEN)\n",
    "        padded[:stop_index]=review[:stop_index]\n",
    "        train_data_padded.append(padded)\n",
    "    return train_data_padded\n",
    "\n",
    "train_reviews=zero_pad_reviews(train_reviews)\n",
    "print(train_reviews[0])"
   ]
  },
  {
   "cell_type": "code",
   "execution_count": 10,
   "metadata": {},
   "outputs": [
    {
     "name": "stdout",
     "output_type": "stream",
     "text": [
      "(25000, 500, 50)\n",
      "[ 0.48251     0.87746    -0.23455     0.0262      0.79690999  0.43101999\n",
      " -0.60901999 -0.60764003 -0.42811999 -0.012523   -1.28939998  0.52656001\n",
      " -0.82762998  0.30689001  1.19719994 -0.47674    -0.46884999 -0.19524001\n",
      " -0.28402999  0.35236999  0.45536     0.76853001  0.0062157   0.55421001\n",
      "  1.00059998 -1.3973     -1.68939996  0.30002999  0.60677999 -0.46044001\n",
      "  2.59610009 -1.21780002  0.28747001 -0.46175    -0.25942999  0.38209\n",
      " -0.28312001 -0.47641999 -0.059444   -0.59201998  0.25613001  0.21306001\n",
      " -0.016129   -0.29872999 -0.19468001  0.53610998  0.75458997 -0.41119999\n",
      "  0.23625     0.26451001]\n"
     ]
    }
   ],
   "source": [
    "def review_ints_to_vecs(train_reviews):\n",
    "    train_data=[]\n",
    "    for review in train_reviews:\n",
    "        vec_review=[int_to_vec[word] for word in review]\n",
    "        train_data.append(vec_review)\n",
    "    return train_data\n",
    "\n",
    "train_reviews=np.array(review_ints_to_vecs(train_reviews))\n",
    "print(train_reviews.shape)\n",
    "print(train_reviews[0][0])"
   ]
  },
  {
   "cell_type": "code",
   "execution_count": 19,
   "metadata": {
    "collapsed": true
   },
   "outputs": [],
   "source": [
    "import tensorflow as tf\n",
    "\n",
    "def define_graph():\n",
    "    OUTPUT_SIZE=2\n",
    "    \n",
    "    X=tf.placeholder(tf.float32,[None,MAX_REVIEW_LEN,EMBEDDING_SIZE])\n",
    "    Y=tf.placeholder(tf.int32,[None,OUTPUT_SIZE])\n",
    "    keep_prob=tf.placeholder_with_default(1.0,shape=())\n",
    "    \n",
    "    rnn=tf.contrib.rnn.GRUCell(125,activation=tf.nn.relu)\n",
    "    drop0=tf.contrib.rnn.DropoutWrapper(rnn,output_keep_prob=keep_prob)\n",
    "    outputs,final=tf.nn.dynamic_rnn(drop0,X,dtype=tf.float32)\n",
    "    dense=tf.layers.dense(outputs[:,-1],100,activation=tf.nn.relu)\n",
    "    drop1=tf.layers.dropout(dense,rate=(1-keep_prob))\n",
    "    logits=tf.layers.dense(drop1,OUTPUT_SIZE,activation=None)\n",
    "    \n",
    "    error=tf.nn.softmax_cross_entropy_with_logits(logits=logits, labels=Y)\n",
    "    loss=tf.reduce_sum(error)\n",
    "    optimizer=tf.train.AdamOptimizer(learning_rate=0.001).minimize(loss)\n",
    "    \n",
    "    preds=tf.nn.softmax(logits)\n",
    "    correct=tf.equal(tf.argmax(preds,axis=1),tf.argmax(Y,axis=1))\n",
    "    accuracy=tf.reduce_mean(tf.cast(correct,tf.float32))\n",
    "    \n",
    "    return X,Y,keep_prob,optimizer,loss,accuracy"
   ]
  },
  {
   "cell_type": "code",
   "execution_count": 13,
   "metadata": {
    "collapsed": true
   },
   "outputs": [],
   "source": [
    "'''\n",
    "define a permutation that will give me an index list that takes one of you from the negative and the positive.\n",
    "and then alternationg until the end.\n",
    "then if we choose to split our data with 1000 samples in the validation set and the rest in the training set\n",
    "then we will get our training and validation sets with the following shape\n",
    "'''\n",
    "permutation=[(i//2)+12500*(i%2) for i in range(len(train_reviews))]\n",
    "train_reviews=train_reviews[permutation]\n",
    "train_labels=train_labels[permutation]"
   ]
  },
  {
   "cell_type": "code",
   "execution_count": 14,
   "metadata": {},
   "outputs": [
    {
     "name": "stdout",
     "output_type": "stream",
     "text": [
      "(24000, 500, 50)\n",
      "(24000, 2)\n",
      "(1000, 500, 50)\n",
      "(1000, 2)\n"
     ]
    }
   ],
   "source": [
    "validation_size=1000\n",
    "train_size=len(train_reviews)-validation_size\n",
    "\n",
    "x_train=train_reviews[:train_size]\n",
    "y_train=train_labels[:train_size]\n",
    "x_val=train_reviews[train_size:]\n",
    "y_val=train_labels[train_size:]\n",
    "\n",
    "print(x_train.shape)\n",
    "print(y_train.shape)\n",
    "print(x_val.shape)\n",
    "print(y_val.shape)\n"
   ]
  },
  {
   "cell_type": "code",
   "execution_count": 21,
   "metadata": {},
   "outputs": [
    {
     "name": "stdout",
     "output_type": "stream",
     "text": [
      "Epoch 0: 0, Train loss:34.81, Train acc: 0.520000,Val acc: 0.492\n",
      "Epoch 0: 1, Train loss:34.85, Train acc: 0.540000,Val acc: 0.505\n",
      "Epoch 0: 2, Train loss:34.53, Train acc: 0.500000,Val acc: 0.499\n",
      "Epoch 0: 3, Train loss:34.04, Train acc: 0.480000,Val acc: 0.506\n",
      "Epoch 0: 4, Train loss:34.41, Train acc: 0.540000,Val acc: 0.494\n",
      "Epoch 0: 5, Train loss:34.37, Train acc: 0.500000,Val acc: 0.484\n",
      "Epoch 0: 6, Train loss:34.68, Train acc: 0.440000,Val acc: 0.483\n",
      "Epoch 0: 7, Train loss:34.42, Train acc: 0.480000,Val acc: 0.508\n",
      "Epoch 0: 8, Train loss:34.70, Train acc: 0.520000,Val acc: 0.506\n",
      "Epoch 0: 9, Train loss:34.50, Train acc: 0.440000,Val acc: 0.501\n",
      "Epoch 0:10, Train loss:35.03, Train acc: 0.420000,Val acc: 0.497\n",
      "Epoch 0:11, Train loss:34.73, Train acc: 0.560000,Val acc: 0.495\n",
      "Epoch 0:12, Train loss:34.26, Train acc: 0.500000,Val acc: 0.503\n",
      "Epoch 0:13, Train loss:35.16, Train acc: 0.440000,Val acc: 0.501\n",
      "Epoch 0:14, Train loss:34.15, Train acc: 0.560000,Val acc: 0.494\n",
      "Epoch 0:15, Train loss:34.27, Train acc: 0.580000,Val acc: 0.502\n",
      "Epoch 0:16, Train loss:35.24, Train acc: 0.380000,Val acc: 0.504\n",
      "Epoch 0:17, Train loss:34.77, Train acc: 0.540000,Val acc: 0.498\n",
      "Epoch 0:18, Train loss:34.62, Train acc: 0.440000,Val acc: 0.502\n",
      "Epoch 0:19, Train loss:34.10, Train acc: 0.540000,Val acc: 0.508\n",
      "Epoch 0:20, Train loss:34.44, Train acc: 0.600000,Val acc: 0.502\n",
      "Epoch 0:21, Train loss:34.39, Train acc: 0.460000,Val acc: 0.496\n",
      "Epoch 0:22, Train loss:34.19, Train acc: 0.520000,Val acc: 0.504\n",
      "Epoch 0:23, Train loss:35.10, Train acc: 0.440000,Val acc: 0.506\n",
      "Epoch 1: 0, Train loss:34.83, Train acc: 0.420000,Val acc: 0.505\n",
      "Epoch 1: 1, Train loss:34.27, Train acc: 0.620000,Val acc: 0.508\n",
      "Epoch 1: 2, Train loss:34.60, Train acc: 0.440000,Val acc: 0.507\n",
      "Epoch 1: 3, Train loss:33.76, Train acc: 0.500000,Val acc: 0.510\n",
      "Epoch 1: 4, Train loss:35.09, Train acc: 0.460000,Val acc: 0.505\n",
      "Epoch 1: 5, Train loss:34.52, Train acc: 0.520000,Val acc: 0.495\n",
      "Epoch 1: 6, Train loss:34.20, Train acc: 0.480000,Val acc: 0.498\n",
      "Epoch 1: 7, Train loss:34.16, Train acc: 0.520000,Val acc: 0.505\n",
      "Epoch 1: 8, Train loss:34.43, Train acc: 0.400000,Val acc: 0.510\n",
      "Epoch 1: 9, Train loss:34.50, Train acc: 0.560000,Val acc: 0.502\n",
      "Epoch 1:10, Train loss:35.20, Train acc: 0.420000,Val acc: 0.507\n",
      "Epoch 1:11, Train loss:34.47, Train acc: 0.440000,Val acc: 0.508\n",
      "Epoch 1:12, Train loss:33.38, Train acc: 0.640000,Val acc: 0.505\n",
      "Epoch 1:13, Train loss:33.71, Train acc: 0.520000,Val acc: 0.496\n",
      "Epoch 1:14, Train loss:34.41, Train acc: 0.460000,Val acc: 0.504\n",
      "Epoch 1:15, Train loss:34.71, Train acc: 0.540000,Val acc: 0.503\n",
      "Epoch 1:16, Train loss:34.61, Train acc: 0.500000,Val acc: 0.506\n",
      "Epoch 1:17, Train loss:34.59, Train acc: 0.480000,Val acc: 0.508\n",
      "Epoch 1:18, Train loss:34.53, Train acc: 0.500000,Val acc: 0.509\n",
      "Epoch 1:19, Train loss:34.58, Train acc: 0.500000,Val acc: 0.509\n",
      "Epoch 1:20, Train loss:34.49, Train acc: 0.540000,Val acc: 0.506\n",
      "Epoch 1:21, Train loss:34.58, Train acc: 0.620000,Val acc: 0.507\n",
      "Epoch 1:22, Train loss:34.55, Train acc: 0.540000,Val acc: 0.502\n",
      "Epoch 1:23, Train loss:34.60, Train acc: 0.460000,Val acc: 0.511\n",
      "Epoch 2: 0, Train loss:34.67, Train acc: 0.360000,Val acc: 0.508\n",
      "Epoch 2: 1, Train loss:34.47, Train acc: 0.620000,Val acc: 0.509\n",
      "Epoch 2: 2, Train loss:34.44, Train acc: 0.600000,Val acc: 0.511\n",
      "Epoch 2: 3, Train loss:33.96, Train acc: 0.520000,Val acc: 0.507\n",
      "Epoch 2: 4, Train loss:35.05, Train acc: 0.480000,Val acc: 0.509\n",
      "Epoch 2: 5, Train loss:33.90, Train acc: 0.600000,Val acc: 0.507\n",
      "Epoch 2: 6, Train loss:34.27, Train acc: 0.580000,Val acc: 0.502\n",
      "Epoch 2: 7, Train loss:33.78, Train acc: 0.480000,Val acc: 0.503\n",
      "Epoch 2: 8, Train loss:33.62, Train acc: 0.540000,Val acc: 0.503\n",
      "Epoch 2: 9, Train loss:33.93, Train acc: 0.560000,Val acc: 0.501\n",
      "Epoch 2:10, Train loss:35.85, Train acc: 0.480000,Val acc: 0.511\n",
      "Epoch 2:11, Train loss:34.46, Train acc: 0.540000,Val acc: 0.512\n",
      "Epoch 2:12, Train loss:33.58, Train acc: 0.540000,Val acc: 0.512\n",
      "Epoch 2:13, Train loss:35.21, Train acc: 0.420000,Val acc: 0.500\n",
      "Epoch 2:14, Train loss:33.94, Train acc: 0.500000,Val acc: 0.504\n",
      "Epoch 2:15, Train loss:32.83, Train acc: 0.680000,Val acc: 0.506\n",
      "Epoch 2:16, Train loss:34.11, Train acc: 0.520000,Val acc: 0.505\n",
      "Epoch 2:17, Train loss:34.32, Train acc: 0.520000,Val acc: 0.508\n",
      "Epoch 2:18, Train loss:34.10, Train acc: 0.500000,Val acc: 0.517\n",
      "Epoch 2:19, Train loss:33.09, Train acc: 0.540000,Val acc: 0.512\n",
      "Epoch 2:20, Train loss:33.34, Train acc: 0.540000,Val acc: 0.512\n",
      "Epoch 2:21, Train loss:32.88, Train acc: 0.520000,Val acc: 0.500\n",
      "Epoch 2:22, Train loss:35.11, Train acc: 0.520000,Val acc: 0.500\n",
      "Epoch 2:23, Train loss:34.82, Train acc: 0.460000,Val acc: 0.508\n",
      "Epoch 3: 0, Train loss:34.87, Train acc: 0.540000,Val acc: 0.509\n",
      "Epoch 3: 1, Train loss:34.38, Train acc: 0.580000,Val acc: 0.509\n",
      "Epoch 3: 2, Train loss:34.36, Train acc: 0.500000,Val acc: 0.509\n",
      "Epoch 3: 3, Train loss:33.95, Train acc: 0.540000,Val acc: 0.508\n",
      "Epoch 3: 4, Train loss:35.01, Train acc: 0.480000,Val acc: 0.508\n",
      "Epoch 3: 5, Train loss:34.49, Train acc: 0.500000,Val acc: 0.509\n",
      "Epoch 3: 6, Train loss:34.82, Train acc: 0.420000,Val acc: 0.517\n",
      "Epoch 3: 7, Train loss:33.77, Train acc: 0.560000,Val acc: 0.519\n",
      "Epoch 3: 8, Train loss:34.40, Train acc: 0.520000,Val acc: 0.507\n",
      "Epoch 3: 9, Train loss:34.68, Train acc: 0.500000,Val acc: 0.510\n",
      "Epoch 3:10, Train loss:34.94, Train acc: 0.460000,Val acc: 0.513\n",
      "Epoch 3:11, Train loss:34.18, Train acc: 0.520000,Val acc: 0.511\n",
      "Epoch 3:12, Train loss:33.93, Train acc: 0.540000,Val acc: 0.512\n",
      "Epoch 3:13, Train loss:33.43, Train acc: 0.520000,Val acc: 0.508\n",
      "Epoch 3:14, Train loss:33.85, Train acc: 0.500000,Val acc: 0.504\n",
      "Epoch 3:15, Train loss:31.94, Train acc: 0.620000,Val acc: 0.500\n",
      "Epoch 3:16, Train loss:34.31, Train acc: 0.520000,Val acc: 0.511\n",
      "Epoch 3:17, Train loss:34.06, Train acc: 0.500000,Val acc: 0.508\n",
      "Epoch 3:18, Train loss:33.81, Train acc: 0.560000,Val acc: 0.508\n",
      "Epoch 3:19, Train loss:33.64, Train acc: 0.560000,Val acc: 0.508\n",
      "Epoch 3:20, Train loss:33.59, Train acc: 0.580000,Val acc: 0.508\n",
      "Epoch 3:21, Train loss:27.65, Train acc: 0.660000,Val acc: 0.546\n",
      "Epoch 3:22, Train loss:33.88, Train acc: 0.500000,Val acc: 0.503\n",
      "Epoch 3:23, Train loss:34.47, Train acc: 0.560000,Val acc: 0.606\n",
      "Epoch 4: 0, Train loss:34.03, Train acc: 0.560000,Val acc: 0.512\n",
      "Epoch 4: 1, Train loss:30.80, Train acc: 0.700000,Val acc: 0.642\n",
      "Epoch 4: 2, Train loss:25.12, Train acc: 0.840000,Val acc: 0.668\n",
      "Epoch 4: 3, Train loss:25.00, Train acc: 0.740000,Val acc: 0.673\n",
      "Epoch 4: 4, Train loss:26.07, Train acc: 0.780000,Val acc: 0.716\n",
      "Epoch 4: 5, Train loss:20.86, Train acc: 0.800000,Val acc: 0.723\n",
      "Epoch 4: 6, Train loss:31.94, Train acc: 0.720000,Val acc: 0.732\n",
      "Epoch 4: 7, Train loss:22.79, Train acc: 0.800000,Val acc: 0.746\n",
      "Epoch 4: 8, Train loss:20.42, Train acc: 0.820000,Val acc: 0.752\n",
      "Epoch 4: 9, Train loss:19.19, Train acc: 0.800000,Val acc: 0.755\n",
      "Epoch 4:10, Train loss:25.96, Train acc: 0.780000,Val acc: 0.759\n",
      "Epoch 4:11, Train loss:26.07, Train acc: 0.800000,Val acc: 0.731\n",
      "Epoch 4:12, Train loss:16.43, Train acc: 0.860000,Val acc: 0.767\n",
      "Epoch 4:13, Train loss:20.28, Train acc: 0.800000,Val acc: 0.767\n",
      "Epoch 4:14, Train loss:22.75, Train acc: 0.800000,Val acc: 0.765\n",
      "Epoch 4:15, Train loss:26.75, Train acc: 0.720000,Val acc: 0.780\n",
      "Epoch 4:16, Train loss:26.19, Train acc: 0.760000,Val acc: 0.782\n",
      "Epoch 4:17, Train loss:18.61, Train acc: 0.880000,Val acc: 0.781\n",
      "Epoch 4:18, Train loss:18.62, Train acc: 0.880000,Val acc: 0.779\n",
      "Epoch 4:19, Train loss:19.22, Train acc: 0.840000,Val acc: 0.786\n",
      "Epoch 4:20, Train loss:12.16, Train acc: 0.920000,Val acc: 0.785\n",
      "Epoch 4:21, Train loss:33.40, Train acc: 0.660000,Val acc: 0.773\n",
      "Epoch 4:22, Train loss:24.95, Train acc: 0.780000,Val acc: 0.783\n",
      "Epoch 4:23, Train loss:9.71, Train acc: 0.940000,Val acc: 0.801\n",
      "Epoch 5: 0, Train loss:26.26, Train acc: 0.720000,Val acc: 0.797\n",
      "Epoch 5: 1, Train loss:15.67, Train acc: 0.880000,Val acc: 0.777\n",
      "Epoch 5: 2, Train loss:19.58, Train acc: 0.840000,Val acc: 0.796\n",
      "Epoch 5: 3, Train loss:19.08, Train acc: 0.840000,Val acc: 0.799\n",
      "Epoch 5: 4, Train loss:12.96, Train acc: 0.880000,Val acc: 0.811\n",
      "Epoch 5: 5, Train loss:15.41, Train acc: 0.880000,Val acc: 0.785\n",
      "Epoch 5: 6, Train loss:24.51, Train acc: 0.760000,Val acc: 0.805\n"
     ]
    },
    {
     "name": "stdout",
     "output_type": "stream",
     "text": [
      "Epoch 5: 7, Train loss:12.40, Train acc: 0.940000,Val acc: 0.806\n",
      "Epoch 5: 8, Train loss:17.65, Train acc: 0.800000,Val acc: 0.814\n",
      "Epoch 5: 9, Train loss:16.10, Train acc: 0.900000,Val acc: 0.797\n",
      "Epoch 5:10, Train loss:19.97, Train acc: 0.840000,Val acc: 0.806\n",
      "Epoch 5:11, Train loss:21.64, Train acc: 0.760000,Val acc: 0.806\n",
      "Epoch 5:12, Train loss:16.27, Train acc: 0.900000,Val acc: 0.805\n",
      "Epoch 5:13, Train loss:18.68, Train acc: 0.820000,Val acc: 0.803\n",
      "Epoch 5:14, Train loss:24.43, Train acc: 0.760000,Val acc: 0.774\n",
      "Epoch 5:15, Train loss:26.91, Train acc: 0.760000,Val acc: 0.808\n",
      "Epoch 5:16, Train loss:23.17, Train acc: 0.760000,Val acc: 0.811\n",
      "Epoch 5:17, Train loss:14.09, Train acc: 0.920000,Val acc: 0.809\n",
      "Epoch 5:18, Train loss:15.37, Train acc: 0.880000,Val acc: 0.815\n",
      "Epoch 5:19, Train loss:14.65, Train acc: 0.860000,Val acc: 0.813\n",
      "Epoch 5:20, Train loss:11.70, Train acc: 0.920000,Val acc: 0.806\n",
      "Epoch 5:21, Train loss:27.55, Train acc: 0.720000,Val acc: 0.786\n",
      "Epoch 5:22, Train loss:20.46, Train acc: 0.860000,Val acc: 0.818\n",
      "Epoch 5:23, Train loss:8.24, Train acc: 1.000000,Val acc: 0.820\n",
      "Epoch 6: 0, Train loss:22.07, Train acc: 0.800000,Val acc: 0.816\n",
      "Epoch 6: 1, Train loss:14.79, Train acc: 0.880000,Val acc: 0.806\n",
      "Epoch 6: 2, Train loss:16.06, Train acc: 0.860000,Val acc: 0.820\n",
      "Epoch 6: 3, Train loss:17.68, Train acc: 0.800000,Val acc: 0.821\n",
      "Epoch 6: 4, Train loss:12.07, Train acc: 0.900000,Val acc: 0.826\n",
      "Epoch 6: 5, Train loss:13.19, Train acc: 0.880000,Val acc: 0.799\n",
      "Epoch 6: 6, Train loss:22.71, Train acc: 0.720000,Val acc: 0.822\n",
      "Epoch 6: 7, Train loss:11.61, Train acc: 0.980000,Val acc: 0.819\n",
      "Epoch 6: 8, Train loss:20.37, Train acc: 0.800000,Val acc: 0.824\n",
      "Epoch 6: 9, Train loss:13.95, Train acc: 0.880000,Val acc: 0.819\n",
      "Epoch 6:10, Train loss:17.59, Train acc: 0.840000,Val acc: 0.813\n",
      "Epoch 6:11, Train loss:23.89, Train acc: 0.800000,Val acc: 0.826\n",
      "Epoch 6:12, Train loss:14.21, Train acc: 0.900000,Val acc: 0.804\n",
      "Epoch 6:13, Train loss:15.65, Train acc: 0.880000,Val acc: 0.819\n",
      "Epoch 6:14, Train loss:24.98, Train acc: 0.780000,Val acc: 0.783\n",
      "Epoch 6:15, Train loss:26.33, Train acc: 0.760000,Val acc: 0.819\n",
      "Epoch 6:16, Train loss:23.14, Train acc: 0.780000,Val acc: 0.819\n",
      "Epoch 6:17, Train loss:11.41, Train acc: 0.920000,Val acc: 0.831\n",
      "Epoch 6:18, Train loss:14.24, Train acc: 0.840000,Val acc: 0.832\n",
      "Epoch 6:19, Train loss:10.03, Train acc: 0.880000,Val acc: 0.825\n",
      "Epoch 6:20, Train loss:11.40, Train acc: 0.920000,Val acc: 0.811\n",
      "Epoch 6:21, Train loss:20.10, Train acc: 0.820000,Val acc: 0.804\n",
      "Epoch 6:22, Train loss:18.32, Train acc: 0.860000,Val acc: 0.831\n",
      "Epoch 6:23, Train loss:5.66, Train acc: 1.000000,Val acc: 0.828\n",
      "Epoch 7: 0, Train loss:17.19, Train acc: 0.920000,Val acc: 0.829\n",
      "Epoch 7: 1, Train loss:14.27, Train acc: 0.900000,Val acc: 0.810\n",
      "Epoch 7: 2, Train loss:18.06, Train acc: 0.860000,Val acc: 0.830\n",
      "Epoch 7: 3, Train loss:16.38, Train acc: 0.860000,Val acc: 0.812\n",
      "Epoch 7: 4, Train loss:11.11, Train acc: 0.920000,Val acc: 0.838\n",
      "Epoch 7: 5, Train loss:12.41, Train acc: 0.900000,Val acc: 0.821\n",
      "Epoch 7: 6, Train loss:19.91, Train acc: 0.820000,Val acc: 0.841\n",
      "Epoch 7: 7, Train loss:9.71, Train acc: 0.960000,Val acc: 0.825\n",
      "Epoch 7: 8, Train loss:20.55, Train acc: 0.860000,Val acc: 0.837\n",
      "Epoch 7: 9, Train loss:14.02, Train acc: 0.860000,Val acc: 0.826\n",
      "Epoch 7:10, Train loss:22.46, Train acc: 0.840000,Val acc: 0.814\n",
      "Epoch 7:11, Train loss:19.27, Train acc: 0.820000,Val acc: 0.834\n",
      "Epoch 7:12, Train loss:14.12, Train acc: 0.940000,Val acc: 0.823\n",
      "Epoch 7:13, Train loss:13.34, Train acc: 0.900000,Val acc: 0.825\n",
      "Epoch 7:14, Train loss:21.38, Train acc: 0.800000,Val acc: 0.794\n",
      "Epoch 7:15, Train loss:24.82, Train acc: 0.780000,Val acc: 0.828\n",
      "Epoch 7:16, Train loss:22.82, Train acc: 0.800000,Val acc: 0.835\n",
      "Epoch 7:17, Train loss:11.60, Train acc: 0.920000,Val acc: 0.848\n",
      "Epoch 7:18, Train loss:13.88, Train acc: 0.860000,Val acc: 0.844\n",
      "Epoch 7:19, Train loss:7.04, Train acc: 0.940000,Val acc: 0.817\n",
      "Epoch 7:20, Train loss:11.51, Train acc: 0.900000,Val acc: 0.816\n",
      "Epoch 7:21, Train loss:17.07, Train acc: 0.840000,Val acc: 0.814\n",
      "Epoch 7:22, Train loss:14.20, Train acc: 0.880000,Val acc: 0.830\n",
      "Epoch 7:23, Train loss:5.69, Train acc: 0.980000,Val acc: 0.843\n"
     ]
    }
   ],
   "source": [
    "BATCH_SIZE=50\n",
    "\n",
    "num_samples=len(x_train)\n",
    "num_batches=int(num_samples//BATCH_SIZE)\n",
    "\n",
    "accT=[]\n",
    "accV=[]\n",
    "\n",
    "tf.reset_default_graph()\n",
    "X,Y,keep_prob,optimizer,loss,accuracy=define_graph()\n",
    "\n",
    "with tf.Session() as sess:\n",
    "    sess.run(tf.global_variables_initializer())\n",
    "    \n",
    "    for epoch in range(8):\n",
    "        for i in range(0,num_samples,BATCH_SIZE):\n",
    "            x_train_batch=x_train[i:i+BATCH_SIZE]\n",
    "            y_train_batch=y_train[i:i+BATCH_SIZE]\n",
    "            \n",
    "            _,train_loss,train_acc=sess.run([optimizer,loss,accuracy],feed_dict={X:x_train_batch,Y:y_train_batch,keep_prob:0.5})\n",
    "            \n",
    "            if (i%1000)==0:\n",
    "                val_acc=sess.run(accuracy,feed_dict={X:x_val,Y:y_val})\n",
    "                print(\"Epoch {0}:{1:2d}, Train loss:{2:2.2f}, Train acc: {3:3f},Val acc: {4:.3f}\"\n",
    "                     .format(epoch,i//1000,train_loss,train_acc,val_acc))\n",
    "                accT.append(train_acc)\n",
    "                accV.append(val_acc)\n"
   ]
  },
  {
   "cell_type": "code",
   "execution_count": 24,
   "metadata": {},
   "outputs": [
    {
     "data": {
      "image/png": "[encoded data removed]",
      "text/plain": [
       "<matplotlib.figure.Figure at 0x215258183c8>"
      ]
     },
     "metadata": {},
     "output_type": "display_data"
    }
   ],
   "source": [
    "import matplotlib.pyplot as plt\n",
    "\n",
    "t=range(len(accT))\n",
    "plt.plot(t,accT)\n",
    "plt.plot(t,accV)\n",
    "plt.show()"
   ]
  },
  {
   "cell_type": "code",
   "execution_count": null,
   "metadata": {
    "collapsed": true
   },
   "outputs": [],
   "source": []
  }
 ],
 "metadata": {
  "kernelspec": {
   "display_name": "Python 3",
   "language": "python",
   "name": "python3"
  },
  "language_info": {
   "codemirror_mode": {
    "name": "ipython",
    "version": 3
   },
   "file_extension": ".py",
   "mimetype": "text/x-python",
   "name": "python",
   "nbconvert_exporter": "python",
   "pygments_lexer": "ipython3",
   "version": "3.6.3"
  }
 },
 "nbformat": 4,
 "nbformat_minor": 2
}
